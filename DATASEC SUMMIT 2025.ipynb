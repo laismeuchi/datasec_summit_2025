{
 "cells": [
  {
   "cell_type": "markdown",
   "metadata": {
    "application/vnd.databricks.v1+cell": {
     "cellMetadata": {
      "batchId": -4599130763318920,
      "byteLimit": 2048000,
      "rowLimit": 10000
     },
     "inputWidgets": {},
     "nuid": "5fd6ba9c-5e19-4ab4-912c-326cec92ec4f",
     "showTitle": false,
     "tableResultSettingsMap": {},
     "title": ""
    }
   },
   "source": [
    "# Detecção de Acessos Não Autorizados e Insider Threats\n",
    "\n",
    "Objetivos:\n",
    "\n",
    "- Monitorar acessos internos a sistemas corporativos e detectar padrões suspeitos.\n",
    "- Utilizar Databricks para identificar acessos fora do padrão.\n",
    "- Enviar alertas por email ao time de segurança."
   ]
  },
  {
   "cell_type": "markdown",
   "metadata": {
    "application/vnd.databricks.v1+cell": {
     "cellMetadata": {
      "batchId": -4599130763318920,
      "byteLimit": 2048000,
      "rowLimit": 10000
     },
     "inputWidgets": {},
     "nuid": "70955b27-8cfd-4ca3-8cd2-880b2db5a6af",
     "showTitle": false,
     "tableResultSettingsMap": {},
     "title": ""
    }
   },
   "source": [
    "## 1️⃣ Gerando Arquivos de Log para Simulação"
   ]
  },
  {
   "cell_type": "code",
   "execution_count": 0,
   "metadata": {
    "application/vnd.databricks.v1+cell": {
     "cellMetadata": {
      "byteLimit": 2048000,
      "rowLimit": 10000
     },
     "inputWidgets": {},
     "nuid": "ff9ed628-84ef-47e3-aebb-71d5ad1aca54",
     "showTitle": true,
     "tableResultSettingsMap": {},
     "title": "Imports e  dados mestres para geração dos logs"
    }
   },
   "outputs": [],
   "source": [
    "import random\n",
    "import pandas as pd\n",
    "from datetime import datetime, timedelta\n",
    "\n",
    "# Definir usuários e recursos\n",
    "usuarios = [\"user_001\", \"user_002\", \"user_003\", \"user_004\", \"user_005\"]\n",
    "recursos = [\"Banco de Dados\", \"Servidor Interno\", \"Planilha Financeira\", \"Relatórios Confidenciais\"]\n",
    "roles = {\"user_001\": \"Admin\", \"user_002\": \"Analista\", \"user_003\": \"Analista\", \"user_004\": \"Gerente\", \"user_005\": \"TI\"}\n"
   ]
  },
  {
   "cell_type": "code",
   "execution_count": 0,
   "metadata": {
    "application/vnd.databricks.v1+cell": {
     "cellMetadata": {
      "byteLimit": 2048000,
      "rowLimit": 10000
     },
     "inputWidgets": {},
     "nuid": "8ae381a2-8e3e-42e0-b403-d8cfd78c37e0",
     "showTitle": true,
     "tableResultSettingsMap": {},
     "title": "Função que gera os logs"
    }
   },
   "outputs": [],
   "source": [
    "# Gerar dados fictícios\n",
    "def gerar_logs(qtd_registros=1000):\n",
    "    logs = []\n",
    "    for _ in range(qtd_registros):\n",
    "        user = random.choice(usuarios)\n",
    "        timestamp = datetime.now() - timedelta(minutes=random.randint(1, 1440))\n",
    "        ip = f\"192.168.{random.randint(0,255)}.{random.randint(0,255)}\"\n",
    "        recurso = random.choice(recursos)\n",
    "        role = roles[user]\n",
    "        logs.append([user, timestamp, ip, recurso, role])\n",
    "    \n",
    "    df = pd.DataFrame(logs, columns=[\"user_id\", \"timestamp\", \"ip_address\", \"resource_accessed\", \"role\"])\n",
    "    \n",
    "    # Ensure the directory exists\n",
    "    dbutils.fs.mkdirs(\"dbfs:/tmp\")\n",
    "    \n",
    "    # Add timestamp to file name\n",
    "    timestamp_str = datetime.now().strftime(\"%Y%m%d_%H%M%S\")\n",
    "    file_path = f\"/dbfs/tmp/logs_acesso_simulados_{timestamp_str}.csv\"\n",
    "    df.to_csv(f\"/dbfs/tmp/logs_acesso_simulados_{timestamp_str}.csv\", index=False)\n",
    "    \n",
    "    return file_path, timestamp_str"
   ]
  },
  {
   "cell_type": "code",
   "execution_count": 0,
   "metadata": {
    "application/vnd.databricks.v1+cell": {
     "cellMetadata": {
      "byteLimit": 2048000,
      "rowLimit": 10000
     },
     "inputWidgets": {},
     "nuid": "1585f69b-e8d9-4936-aceb-89ede52fdac2",
     "showTitle": true,
     "tableResultSettingsMap": {},
     "title": "Gerar os logs"
    }
   },
   "outputs": [],
   "source": [
    "# Gerar 1000 registros fictícios\n",
    "file_path, timestamp_str = gerar_logs(1000)\n",
    "\n",
    "# Move the file to the desired location\n",
    "dbutils.fs.mv(f\"dbfs:/tmp/logs_acesso_simulados_{timestamp_str}.csv\", \n",
    "              f\"abfss://landing@stdatasecdemo.dfs.core.windows.net/logs_acesso_simulados_{timestamp_str}.csv\")"
   ]
  },
  {
   "cell_type": "markdown",
   "metadata": {
    "application/vnd.databricks.v1+cell": {
     "cellMetadata": {
      "batchId": -4599130763318920,
      "byteLimit": 2048000,
      "rowLimit": 10000
     },
     "inputWidgets": {},
     "nuid": "e961bb04-67e1-4125-a79e-e69ae14e16c2",
     "showTitle": false,
     "tableResultSettingsMap": {},
     "title": ""
    }
   },
   "source": [
    "## 2️⃣ Detectando Acessos Suspeitos"
   ]
  },
  {
   "cell_type": "code",
   "execution_count": 0,
   "metadata": {
    "application/vnd.databricks.v1+cell": {
     "cellMetadata": {
      "byteLimit": 2048000,
      "rowLimit": 10000
     },
     "inputWidgets": {},
     "nuid": "67926217-943d-488e-ad87-68b313d35ca6",
     "showTitle": true,
     "tableResultSettingsMap": {},
     "title": "Validação de acessos fora do horário e acessos não autorizados"
    }
   },
   "outputs": [],
   "source": [
    "from pyspark.sql.functions import col, hour, lit\n",
    "\n",
    "# Carregar logs simulados\n",
    "df_logs = spark.read.csv(\"abfss://landing@stdatasecdemo.dfs.core.windows.net/*.csv\", header=True, inferSchema=True)\n",
    "\n",
    "# Definição de regras de risco\n",
    "acessos_fora_horario = (df_logs.filter((hour(col(\"timestamp\")) < 6) | (hour(col(\"timestamp\")) > 22))\n",
    "                        .withColumn(\"tipo_anomalia\", lit(\"Acesso fora do horário\"))\n",
    "                        )\n",
    "\n",
    "acessos_nao_autorizados = (df_logs.filter((col(\"role\") == \"Analista\") & (col(\"resource_accessed\").like(\"%Confidenciais%\")))\n",
    "                           .withColumn(\"tipo_anomalia\", lit(\"Acesso não autorizado\"))\n",
    "                           )\n",
    "\n",
    "# Unindo os acessos suspeitos\n",
    "acessos_suspeitos = acessos_fora_horario.union(acessos_nao_autorizados)"
   ]
  },
  {
   "cell_type": "code",
   "execution_count": 0,
   "metadata": {
    "application/vnd.databricks.v1+cell": {
     "cellMetadata": {
      "byteLimit": 2048000,
      "implicitDf": true,
      "rowLimit": 10000
     },
     "inputWidgets": {},
     "nuid": "1e60f66c-0c17-4e55-afae-2e0e2d9e01c3",
     "showTitle": true,
     "tableResultSettingsMap": {},
     "title": "Criar schema para salvar dados em tabelas"
    }
   },
   "outputs": [],
   "source": [
    "%sql\n",
    "CREATE SCHEMA if not exists seguranca"
   ]
  },
  {
   "cell_type": "code",
   "execution_count": 0,
   "metadata": {
    "application/vnd.databricks.v1+cell": {
     "cellMetadata": {
      "byteLimit": 2048000,
      "rowLimit": 10000
     },
     "inputWidgets": {},
     "nuid": "fe53c02d-f3fe-4dec-bc2a-48133edf7699",
     "showTitle": true,
     "tableResultSettingsMap": {},
     "title": "Salvar tabelas para mostrar linhagem no Unity Catalog"
    }
   },
   "outputs": [],
   "source": [
    "acessos_fora_horario.write.mode(\"append\").saveAsTable(\"seguranca.acessos_fora_horario\")\n",
    "acessos_nao_autorizados.write.mode(\"append\").saveAsTable(\"seguranca.acessos_nao_autorizados\")"
   ]
  },
  {
   "cell_type": "code",
   "execution_count": 0,
   "metadata": {
    "application/vnd.databricks.v1+cell": {
     "cellMetadata": {
      "byteLimit": 2048000,
      "implicitDf": true,
      "rowLimit": 10000
     },
     "inputWidgets": {},
     "nuid": "f12d6245-aeb5-4750-b709-c93bba762774",
     "showTitle": true,
     "tableResultSettingsMap": {},
     "title": "Criar uma tabela de acessos suspeitos"
    }
   },
   "outputs": [],
   "source": [
    "%sql\n",
    "\n",
    "CREATE TABLE IF not exists seguranca.acessos_suspeitos AS\n",
    "SELECT * \n",
    "FROM seguranca.acessos_fora_horario\n",
    "\n",
    "UNION ALL\n",
    "\n",
    "SELECT *\n",
    "FROM seguranca.acessos_nao_autorizados"
   ]
  },
  {
   "cell_type": "markdown",
   "metadata": {
    "application/vnd.databricks.v1+cell": {
     "cellMetadata": {},
     "inputWidgets": {},
     "nuid": "4c140af5-62c6-4452-8787-c6c717840e9c",
     "showTitle": false,
     "tableResultSettingsMap": {},
     "title": ""
    }
   },
   "source": [
    "## 3️⃣ Enviando Email com as Anomalias Detectadas"
   ]
  },
  {
   "cell_type": "code",
   "execution_count": 0,
   "metadata": {
    "application/vnd.databricks.v1+cell": {
     "cellMetadata": {
      "byteLimit": 2048000,
      "rowLimit": 10000
     },
     "inputWidgets": {},
     "nuid": "16c05bb4-f11f-47b6-8fb0-9b2cd9b77a2a",
     "showTitle": true,
     "tableResultSettingsMap": {},
     "title": "Configurações para envio de email"
    }
   },
   "outputs": [],
   "source": [
    "import smtplib\n",
    "from email.mime.text import MIMEText\n",
    "from email.mime.multipart import MIMEMultipart\n",
    "\n",
    "# Configuração do email\n",
    "email_sender = dbutils.secrets.get(scope=\"key-vault-secret\", key=\"email\")\n",
    "email_password = dbutils.secrets.get(scope=\"key-vault-secret\", key=\"senha-email\") \n",
    "email_receiver = \"laismeuchi@gmail.com\"\n"
   ]
  },
  {
   "cell_type": "code",
   "execution_count": 0,
   "metadata": {
    "application/vnd.databricks.v1+cell": {
     "cellMetadata": {
      "byteLimit": 2048000,
      "rowLimit": 10000
     },
     "inputWidgets": {},
     "nuid": "00af5583-abba-4545-b623-0dfc401262d2",
     "showTitle": true,
     "tableResultSettingsMap": {},
     "title": "Função que envia email"
    }
   },
   "outputs": [],
   "source": [
    "def enviar_email(acessos_suspeitos):\n",
    "    # Construção do email\n",
    "    subject = \"Alerta de Acessos Suspeitos Detectados\"\n",
    "\n",
    "    # busca os acessos suspeitos para enviar\n",
    "    df_acessos_supeitos = spark.sql(\"SELECT * FROM seguranca.acessos_suspeitos\")\n",
    "    body = df_acessos_supeitos.toPandas().to_string()\n",
    "\n",
    "    msg = MIMEMultipart()\n",
    "    msg[\"From\"] = email_sender\n",
    "    msg[\"To\"] = email_receiver\n",
    "    msg[\"Subject\"] = subject\n",
    "    msg.attach(MIMEText(body, \"plain\"))\n",
    "\n",
    "    # Enviando o email\n",
    "    with smtplib.SMTP(\"smtp.gmail.com\", 587) as server:\n",
    "        server.starttls()\n",
    "        server.login(email_sender, email_password)\n",
    "        server.sendmail(email_sender, email_receiver, msg.as_string())"
   ]
  },
  {
   "cell_type": "code",
   "execution_count": 0,
   "metadata": {
    "application/vnd.databricks.v1+cell": {
     "cellMetadata": {
      "byteLimit": 2048000,
      "rowLimit": 10000
     },
     "inputWidgets": {},
     "nuid": "3c44ba0b-acd2-4f09-8789-e57abf3278ca",
     "showTitle": true,
     "tableResultSettingsMap": {},
     "title": "Enviar email"
    }
   },
   "outputs": [],
   "source": [
    "if acessos_suspeitos.count() > 0:\n",
    "    enviar_email(acessos_suspeitos)\n",
    "else:\n",
    "    print(\"Sem acessos suspeitos\")"
   ]
  }
 ],
 "metadata": {
  "application/vnd.databricks.v1+notebook": {
   "computePreferences": null,
   "dashboards": [],
   "environmentMetadata": {
    "base_environment": "",
    "environment_version": "2"
   },
   "language": "python",
   "notebookMetadata": {
    "mostRecentlyExecutedCommandWithImplicitDF": {
     "commandId": 6453019596399160,
     "dataframes": [
      "_sqldf"
     ]
    },
    "pythonIndentUnit": 4
   },
   "notebookName": "DATASEC SUMMIT 2025",
   "widgets": {}
  },
  "language_info": {
   "name": "python"
  }
 },
 "nbformat": 4,
 "nbformat_minor": 0
}
